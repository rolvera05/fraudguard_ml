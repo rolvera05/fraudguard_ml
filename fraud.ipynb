{
 "cells": [
  {
   "cell_type": "markdown",
   "id": "57437b00-cf04-49b3-9540-349412dc87b0",
   "metadata": {},
   "source": [
    "# Project Title: FraudGuard ML"
   ]
  },
  {
   "attachments": {
    "13572c32-78a6-46e1-9b85-7c1103650284.jpeg": {
     "image/jpeg": "[encoded data removed]"
    }
   },
   "cell_type": "markdown",
   "id": "75c34524-a8e4-4992-b739-4eaa2a4a8eeb",
   "metadata": {},
   "source": [
    "![images.jpeg](attachment:13572c32-78a6-46e1-9b85-7c1103650284.jpeg)"
   ]
  },
  {
   "cell_type": "markdown",
   "id": "bc10ef75-051f-475c-ac01-11d47d1f6011",
   "metadata": {},
   "source": [
    "Team Members:<br>\n",
    "Michelle Silver supersilver1978@gmail.com<br>\n",
    "Alex Valenzuela axvalenzuela@gmail.com<br>\n",
    "Dylan Johnston - dylanhjjohnston@gmail.com<br>\n",
    "Rosalinda Olvera - rolvera98271@gmail.com<br>\n",
    "James White - jswhite1992@gmail.com<br>\n",
    "1. Data Scientist: Responsible for data preprocessing, exploratory data analysis, feature selection, and model building.<br>\n",
    "2. Machine Learning Engineer: Works closely with the data scientist in model building, model evaluation, and integrating the model with the API.<br>\n",
    "3. Back-End Developer: Responsible for setting up and maintaining the Flask API and its integration with the ML model.<br>\n",
    "4. Project Manager: Oversees the project's progress, facilitates communication among team members, and ensures that the project is on track and within budget.<br>\n",
    "5. QA Tester/Technical Writer: Handles testing of the machine learning model and the Flask API, and prepares comprehensive project documentation."
   ]
  },
  {
   "cell_type": "markdown",
   "id": "4b94c0e1-af2c-45e7-a430-115d732afeef",
   "metadata": {},
   "source": [
    "# Project Description/Outline:<br>\n",
    "FraudGuard ML aims to enhance the security of online transactions by leveraging machine learning to identify potentially fraudulent credit card transactions. The project combines data analytics and predictive modeling techniques to stay effective in the ever-evolving landscape of online transactions.\n",
    "The application is built using Python, incorporating libraries such as Scikit-learn for machine learning, and Flask for creating a web-based API. The model is trained on a dataset rich with both fraudulent and non-fraudulent transactional data, learning from the trends and patterns to flag potential fraud."
   ]
  },
  {
   "cell_type": "markdown",
   "id": "a2c31fcd-85f3-401f-8f7b-afa5fdb74d04",
   "metadata": {},
   "source": [
    "# Research Questions to Answer:<br>\n",
    "1. What are the most significant indicators of a fraudulent transaction?<br>\n",
    "2. How can machine learning improve the accuracy of fraud detection in comparison to traditional methods?<br>\n",
    "3. How can the model be updated regularly to adapt to new fraud patterns?<br>\n",
    "4. How can the model accuracy be maintained despite the imbalance of fraudulent to non-fraudulent transactions in the dataset?<br>\n",
    "# Datasets to be Used:<br>\n",
    "The datasets to be used will consist of anonymized credit card transactions. These datasets will have a mix of fraudulent and non-fraudulent transactions, making it possible for the model to learn and distinguish between them.\n",
    "# Rough Breakdown of Tasks:<br>\n",
    "1. Data Acquisition and Understanding: Gather the required dataset and understand the variables. (Data Scientist)<br>\n",
    "2. Exploratory Data Analysis (EDA) and Preprocessing: Perform EDA, clean the data, manage missing values and outliers, and handle class imbalance. (Data Scientist)<br>\n",
    "3. Flask API Structure: Set up the basic structure of the Flask API. (Back-End Developer)<br>\n",
    "4. Feature Selection and Engineering: Determine the most relevant features for the machine learning model. (Data Scientist and Machine Learning Engineer)<br>\n",
    "5. Model Building and Evaluation: Build, train, and evaluate the machine learning model. (Data Scientist and Machine Learning Engineer)<br>\n",
    "6. Flask API and Model Integration: Integrate the machine learning model with the Flask API. (Back-End Developer and Machine Learning Engineer)<br>\n",
    "7. Testing and Documentation: Test all parts of the project and complete the project documentation. (QA Tester/Technical Writer and Project Manager)<br>"
   ]
  },
  {
   "cell_type": "code",
   "execution_count": null,
   "id": "e9746a0f-b5ad-4327-a77a-5d8d2af7453a",
   "metadata": {},
   "outputs": [],
   "source": []
  },
  {
   "cell_type": "markdown",
   "id": "5366bf73-3b74-4af2-a9cd-1a634e6d2ae3",
   "metadata": {},
   "source": [
    "# Perform Exploratory Data Analysis (EDA)"
   ]
  },
  {
   "cell_type": "markdown",
   "id": "ef6bb3d4-b3a9-4f3e-854e-d87663825e9b",
   "metadata": {},
   "source": [
    "### Import the Libraries"
   ]
  },
  {
   "cell_type": "code",
   "execution_count": 1,
   "id": "17909f49-3f16-40f0-a821-2fe1872edf31",
   "metadata": {},
   "outputs": [],
   "source": [
    "# Importing libraries\n",
    "from pathlib import Path\n",
    "import pandas as pd\n",
    "import numpy as np\n",
    "import seaborn as sns\n",
    "import matplotlib.pyplot as plt"
   ]
  },
  {
   "cell_type": "code",
   "execution_count": 2,
   "id": "350865ea-490e-4275-9d86-1ec679b4b70d",
   "metadata": {},
   "outputs": [],
   "source": [
    "# Shows all the columns\n",
    "\n",
    "pd.set_option('display.max_columns',None)"
   ]
  },
  {
   "cell_type": "code",
   "execution_count": 3,
   "id": "18ed5141-6130-463c-b68a-f67ff82fce1f",
   "metadata": {},
   "outputs": [],
   "source": [
    "# Set the float values to decimal points\n",
    "\n",
    "pd.set_option('display.float_format', lambda x: '%.2f' % x)"
   ]
  },
  {
   "cell_type": "markdown",
   "id": "1cd137be-9197-4e40-b6c2-8bf15dc2f782",
   "metadata": {},
   "source": [
    "### Read the data from the CSV file into a Pandas DataFrame and review the DataFrame."
   ]
  },
  {
   "cell_type": "code",
   "execution_count": 4,
   "id": "f53bf35b-b3bc-4f66-acb3-b66682b6f222",
   "metadata": {},
   "outputs": [
    {
     "data": {
      "text/html": [
       "<div>\n",
       "<style scoped>\n",
       "    .dataframe tbody tr th:only-of-type {\n",
       "        vertical-align: middle;\n",
       "    }\n",
       "\n",
       "    .dataframe tbody tr th {\n",
       "        vertical-align: top;\n",
       "    }\n",
       "\n",
       "    .dataframe thead th {\n",
       "        text-align: right;\n",
       "    }\n",
       "</style>\n",
       "<table border=\"1\" class=\"dataframe\">\n",
       "  <thead>\n",
       "    <tr style=\"text-align: right;\">\n",
       "      <th></th>\n",
       "      <th>Unnamed: 0</th>\n",
       "      <th>trans_date_trans_time</th>\n",
       "      <th>cc_num</th>\n",
       "      <th>merchant</th>\n",
       "      <th>category</th>\n",
       "      <th>amt</th>\n",
       "      <th>first</th>\n",
       "      <th>last</th>\n",
       "      <th>gender</th>\n",
       "      <th>street</th>\n",
       "      <th>city</th>\n",
       "      <th>state</th>\n",
       "      <th>zip</th>\n",
       "      <th>lat</th>\n",
       "      <th>long</th>\n",
       "      <th>city_pop</th>\n",
       "      <th>job</th>\n",
       "      <th>dob</th>\n",
       "      <th>trans_num</th>\n",
       "      <th>unix_time</th>\n",
       "      <th>merch_lat</th>\n",
       "      <th>merch_long</th>\n",
       "      <th>is_fraud</th>\n",
       "    </tr>\n",
       "  </thead>\n",
       "  <tbody>\n",
       "    <tr>\n",
       "      <th>0</th>\n",
       "      <td>0</td>\n",
       "      <td>2019-01-01 00:00:18</td>\n",
       "      <td>2703186189652095</td>\n",
       "      <td>fraud_Rippin, Kub and Mann</td>\n",
       "      <td>misc_net</td>\n",
       "      <td>4.97</td>\n",
       "      <td>Jennifer</td>\n",
       "      <td>Banks</td>\n",
       "      <td>F</td>\n",
       "      <td>561 Perry Cove</td>\n",
       "      <td>Moravian Falls</td>\n",
       "      <td>NC</td>\n",
       "      <td>28654</td>\n",
       "      <td>36.08</td>\n",
       "      <td>-81.18</td>\n",
       "      <td>3495</td>\n",
       "      <td>Psychologist, counselling</td>\n",
       "      <td>1988-03-09</td>\n",
       "      <td>0b242abb623afc578575680df30655b9</td>\n",
       "      <td>1325376018</td>\n",
       "      <td>36.01</td>\n",
       "      <td>-82.05</td>\n",
       "      <td>0</td>\n",
       "    </tr>\n",
       "    <tr>\n",
       "      <th>1</th>\n",
       "      <td>1</td>\n",
       "      <td>2019-01-01 00:00:44</td>\n",
       "      <td>630423337322</td>\n",
       "      <td>fraud_Heller, Gutmann and Zieme</td>\n",
       "      <td>grocery_pos</td>\n",
       "      <td>107.23</td>\n",
       "      <td>Stephanie</td>\n",
       "      <td>Gill</td>\n",
       "      <td>F</td>\n",
       "      <td>43039 Riley Greens Suite 393</td>\n",
       "      <td>Orient</td>\n",
       "      <td>WA</td>\n",
       "      <td>99160</td>\n",
       "      <td>48.89</td>\n",
       "      <td>-118.21</td>\n",
       "      <td>149</td>\n",
       "      <td>Special educational needs teacher</td>\n",
       "      <td>1978-06-21</td>\n",
       "      <td>1f76529f8574734946361c461b024d99</td>\n",
       "      <td>1325376044</td>\n",
       "      <td>49.16</td>\n",
       "      <td>-118.19</td>\n",
       "      <td>0</td>\n",
       "    </tr>\n",
       "    <tr>\n",
       "      <th>2</th>\n",
       "      <td>2</td>\n",
       "      <td>2019-01-01 00:00:51</td>\n",
       "      <td>38859492057661</td>\n",
       "      <td>fraud_Lind-Buckridge</td>\n",
       "      <td>entertainment</td>\n",
       "      <td>220.11</td>\n",
       "      <td>Edward</td>\n",
       "      <td>Sanchez</td>\n",
       "      <td>M</td>\n",
       "      <td>594 White Dale Suite 530</td>\n",
       "      <td>Malad City</td>\n",
       "      <td>ID</td>\n",
       "      <td>83252</td>\n",
       "      <td>42.18</td>\n",
       "      <td>-112.26</td>\n",
       "      <td>4154</td>\n",
       "      <td>Nature conservation officer</td>\n",
       "      <td>1962-01-19</td>\n",
       "      <td>a1a22d70485983eac12b5b88dad1cf95</td>\n",
       "      <td>1325376051</td>\n",
       "      <td>43.15</td>\n",
       "      <td>-112.15</td>\n",
       "      <td>0</td>\n",
       "    </tr>\n",
       "    <tr>\n",
       "      <th>3</th>\n",
       "      <td>3</td>\n",
       "      <td>2019-01-01 00:01:16</td>\n",
       "      <td>3534093764340240</td>\n",
       "      <td>fraud_Kutch, Hermiston and Farrell</td>\n",
       "      <td>gas_transport</td>\n",
       "      <td>45.00</td>\n",
       "      <td>Jeremy</td>\n",
       "      <td>White</td>\n",
       "      <td>M</td>\n",
       "      <td>9443 Cynthia Court Apt. 038</td>\n",
       "      <td>Boulder</td>\n",
       "      <td>MT</td>\n",
       "      <td>59632</td>\n",
       "      <td>46.23</td>\n",
       "      <td>-112.11</td>\n",
       "      <td>1939</td>\n",
       "      <td>Patent attorney</td>\n",
       "      <td>1967-01-12</td>\n",
       "      <td>6b849c168bdad6f867558c3793159a81</td>\n",
       "      <td>1325376076</td>\n",
       "      <td>47.03</td>\n",
       "      <td>-112.56</td>\n",
       "      <td>0</td>\n",
       "    </tr>\n",
       "    <tr>\n",
       "      <th>4</th>\n",
       "      <td>4</td>\n",
       "      <td>2019-01-01 00:03:06</td>\n",
       "      <td>375534208663984</td>\n",
       "      <td>fraud_Keeling-Crist</td>\n",
       "      <td>misc_pos</td>\n",
       "      <td>41.96</td>\n",
       "      <td>Tyler</td>\n",
       "      <td>Garcia</td>\n",
       "      <td>M</td>\n",
       "      <td>408 Bradley Rest</td>\n",
       "      <td>Doe Hill</td>\n",
       "      <td>VA</td>\n",
       "      <td>24433</td>\n",
       "      <td>38.42</td>\n",
       "      <td>-79.46</td>\n",
       "      <td>99</td>\n",
       "      <td>Dance movement psychotherapist</td>\n",
       "      <td>1986-03-28</td>\n",
       "      <td>a41d7549acf90789359a9aa5346dcb46</td>\n",
       "      <td>1325376186</td>\n",
       "      <td>38.67</td>\n",
       "      <td>-78.63</td>\n",
       "      <td>0</td>\n",
       "    </tr>\n",
       "  </tbody>\n",
       "</table>\n",
       "</div>"
      ],
      "text/plain": [
       "   Unnamed: 0 trans_date_trans_time            cc_num  \\\n",
       "0           0   2019-01-01 00:00:18  2703186189652095   \n",
       "1           1   2019-01-01 00:00:44      630423337322   \n",
       "2           2   2019-01-01 00:00:51    38859492057661   \n",
       "3           3   2019-01-01 00:01:16  3534093764340240   \n",
       "4           4   2019-01-01 00:03:06   375534208663984   \n",
       "\n",
       "                             merchant       category    amt      first  \\\n",
       "0          fraud_Rippin, Kub and Mann       misc_net   4.97   Jennifer   \n",
       "1     fraud_Heller, Gutmann and Zieme    grocery_pos 107.23  Stephanie   \n",
       "2                fraud_Lind-Buckridge  entertainment 220.11     Edward   \n",
       "3  fraud_Kutch, Hermiston and Farrell  gas_transport  45.00     Jeremy   \n",
       "4                 fraud_Keeling-Crist       misc_pos  41.96      Tyler   \n",
       "\n",
       "      last gender                        street            city state    zip  \\\n",
       "0    Banks      F                561 Perry Cove  Moravian Falls    NC  28654   \n",
       "1     Gill      F  43039 Riley Greens Suite 393          Orient    WA  99160   \n",
       "2  Sanchez      M      594 White Dale Suite 530      Malad City    ID  83252   \n",
       "3    White      M   9443 Cynthia Court Apt. 038         Boulder    MT  59632   \n",
       "4   Garcia      M              408 Bradley Rest        Doe Hill    VA  24433   \n",
       "\n",
       "    lat    long  city_pop                                job         dob  \\\n",
       "0 36.08  -81.18      3495          Psychologist, counselling  1988-03-09   \n",
       "1 48.89 -118.21       149  Special educational needs teacher  1978-06-21   \n",
       "2 42.18 -112.26      4154        Nature conservation officer  1962-01-19   \n",
       "3 46.23 -112.11      1939                    Patent attorney  1967-01-12   \n",
       "4 38.42  -79.46        99     Dance movement psychotherapist  1986-03-28   \n",
       "\n",
       "                          trans_num   unix_time  merch_lat  merch_long  \\\n",
       "0  0b242abb623afc578575680df30655b9  1325376018      36.01      -82.05   \n",
       "1  1f76529f8574734946361c461b024d99  1325376044      49.16     -118.19   \n",
       "2  a1a22d70485983eac12b5b88dad1cf95  1325376051      43.15     -112.15   \n",
       "3  6b849c168bdad6f867558c3793159a81  1325376076      47.03     -112.56   \n",
       "4  a41d7549acf90789359a9aa5346dcb46  1325376186      38.67      -78.63   \n",
       "\n",
       "   is_fraud  \n",
       "0         0  \n",
       "1         0  \n",
       "2         0  \n",
       "3         0  \n",
       "4         0  "
      ]
     },
     "execution_count": 4,
     "metadata": {},
     "output_type": "execute_result"
    }
   ],
   "source": [
    "# Read the fraudTrainlarge.csv file from the Resources folder into a Pandas DataFrame\n",
    "\n",
    "fraud_df = pd.read_csv(\n",
    "    Path(\"./Resources/fraudTrainlarge.csv\"))\n",
    "\n",
    "fraud_df.head()"
   ]
  },
  {
   "cell_type": "code",
   "execution_count": 5,
   "id": "6f303a5b-65fb-433b-b43d-9bb16cbaaa72",
   "metadata": {},
   "outputs": [],
   "source": [
    "# EDA (6 steps):\n",
    "# discovering : what columns are relevant, datatypes, data descrepancies.\n",
    "# joining : more than two table.\n",
    "# cleaning : removing decsrepancies.\n",
    "# validating : validate for errors in the data.\n",
    "# structuring : start_date, end_date -- > start_date - end_date = duration (feature engineering).\n",
    "# presenting : example :'merchant', y do you feel that this column needs to be added. 10% > null values : dropna() , 15% < null values : drop(columns='')"
   ]
  },
  {
   "cell_type": "markdown",
   "id": "176e8b07-bc50-4e18-8dde-68b8e6714ff8",
   "metadata": {},
   "source": [
    "### Discover the Relevant Columns, Data Types and Descrepancies"
   ]
  },
  {
   "cell_type": "code",
   "execution_count": 6,
   "id": "88a614e7-2c1b-446b-94be-4e0ca92feba9",
   "metadata": {},
   "outputs": [
    {
     "name": "stdout",
     "output_type": "stream",
     "text": [
      "<class 'pandas.core.frame.DataFrame'>\n",
      "RangeIndex: 1296675 entries, 0 to 1296674\n",
      "Data columns (total 23 columns):\n",
      " #   Column                 Non-Null Count    Dtype  \n",
      "---  ------                 --------------    -----  \n",
      " 0   Unnamed: 0             1296675 non-null  int64  \n",
      " 1   trans_date_trans_time  1296675 non-null  object \n",
      " 2   cc_num                 1296675 non-null  int64  \n",
      " 3   merchant               1296675 non-null  object \n",
      " 4   category               1296675 non-null  object \n",
      " 5   amt                    1296675 non-null  float64\n",
      " 6   first                  1296675 non-null  object \n",
      " 7   last                   1296675 non-null  object \n",
      " 8   gender                 1296675 non-null  object \n",
      " 9   street                 1296675 non-null  object \n",
      " 10  city                   1296675 non-null  object \n",
      " 11  state                  1296675 non-null  object \n",
      " 12  zip                    1296675 non-null  int64  \n",
      " 13  lat                    1296675 non-null  float64\n",
      " 14  long                   1296675 non-null  float64\n",
      " 15  city_pop               1296675 non-null  int64  \n",
      " 16  job                    1296675 non-null  object \n",
      " 17  dob                    1296675 non-null  object \n",
      " 18  trans_num              1296675 non-null  object \n",
      " 19  unix_time              1296675 non-null  int64  \n",
      " 20  merch_lat              1296675 non-null  float64\n",
      " 21  merch_long             1296675 non-null  float64\n",
      " 22  is_fraud               1296675 non-null  int64  \n",
      "dtypes: float64(5), int64(6), object(12)\n",
      "memory usage: 227.5+ MB\n"
     ]
    }
   ],
   "source": [
    "# Check the data information \n",
    "\n",
    "fraud_df.info()"
   ]
  },
  {
   "cell_type": "code",
   "execution_count": 7,
   "id": "ac5b10f2-902b-41ed-98a2-673403f18b97",
   "metadata": {},
   "outputs": [],
   "source": [
    "# Changing the data types for all the columns\n",
    "\n",
    "fraud_df['trans_date_trans_time'] = pd.to_datetime(fraud_df['trans_date_trans_time'])\n",
    "fraud_df['merchant'] = fraud_df['merchant'].astype(str)\n",
    "fraud_df['category'] = fraud_df['category'].astype(str)\n",
    "fraud_df['first'] = fraud_df['first'].astype(str)\n",
    "fraud_df['last'] = fraud_df['last'].astype(str)\n",
    "fraud_df['gender'] = fraud_df['gender'].astype(str)\n",
    "fraud_df['street'] = fraud_df['street'].astype(str)\n",
    "fraud_df['city'] = fraud_df['city'].astype(str)\n",
    "fraud_df['state'] = fraud_df['state'].astype(str)\n",
    "fraud_df['job'] = fraud_df['job'].astype(str)\n",
    "fraud_df['dob'] = pd.to_datetime(fraud_df['dob'])\n",
    "\n",
    "\n"
   ]
  },
  {
   "cell_type": "code",
   "execution_count": 8,
   "id": "7ff72df1-fe9a-419c-83ed-67e5d50ba34a",
   "metadata": {},
   "outputs": [
    {
     "data": {
      "text/plain": [
       "Unnamed: 0                        int64\n",
       "trans_date_trans_time    datetime64[ns]\n",
       "cc_num                            int64\n",
       "merchant                         object\n",
       "category                         object\n",
       "amt                             float64\n",
       "first                            object\n",
       "last                             object\n",
       "gender                           object\n",
       "street                           object\n",
       "city                             object\n",
       "state                            object\n",
       "zip                               int64\n",
       "lat                             float64\n",
       "long                            float64\n",
       "city_pop                          int64\n",
       "job                              object\n",
       "dob                      datetime64[ns]\n",
       "trans_num                        object\n",
       "unix_time                         int64\n",
       "merch_lat                       float64\n",
       "merch_long                      float64\n",
       "is_fraud                          int64\n",
       "dtype: object"
      ]
     },
     "execution_count": 8,
     "metadata": {},
     "output_type": "execute_result"
    }
   ],
   "source": [
    "# Rechecking the data types \n",
    "\n",
    "fraud_df.dtypes"
   ]
  },
  {
   "cell_type": "code",
   "execution_count": 9,
   "id": "be7b9a94-4241-4b58-86ec-33976b6a275a",
   "metadata": {},
   "outputs": [
    {
     "data": {
      "text/plain": [
       "0"
      ]
     },
     "execution_count": 9,
     "metadata": {},
     "output_type": "execute_result"
    }
   ],
   "source": [
    "# Check for duplicate rows\n",
    "\n",
    "fraud_df.duplicated().sum()"
   ]
  },
  {
   "cell_type": "code",
   "execution_count": 10,
   "id": "d9dc4426-a028-4119-befc-6a17dab8171b",
   "metadata": {},
   "outputs": [
    {
     "data": {
      "text/plain": [
       "Unnamed: 0               0\n",
       "trans_date_trans_time    0\n",
       "cc_num                   0\n",
       "merchant                 0\n",
       "category                 0\n",
       "amt                      0\n",
       "first                    0\n",
       "last                     0\n",
       "gender                   0\n",
       "street                   0\n",
       "city                     0\n",
       "state                    0\n",
       "zip                      0\n",
       "lat                      0\n",
       "long                     0\n",
       "city_pop                 0\n",
       "job                      0\n",
       "dob                      0\n",
       "trans_num                0\n",
       "unix_time                0\n",
       "merch_lat                0\n",
       "merch_long               0\n",
       "is_fraud                 0\n",
       "dtype: int64"
      ]
     },
     "execution_count": 10,
     "metadata": {},
     "output_type": "execute_result"
    }
   ],
   "source": [
    "# Obtaining total for null values\n",
    "\n",
    "fraud_df.isnull().sum()"
   ]
  },
  {
   "cell_type": "code",
   "execution_count": 11,
   "id": "046fcd46-6ca2-4a98-93f2-59b4a9997a85",
   "metadata": {},
   "outputs": [
    {
     "name": "stdout",
     "output_type": "stream",
     "text": [
      "Number of Non-Fraud transactions:  1289169\n",
      "Number of Fraud transactions:  7506\n",
      "Percentage of Fraud transactions: 0.5789\n"
     ]
    }
   ],
   "source": [
    "# Calculate the non-fraud transactions, fraud transactions and percentage of fraud transactions\n",
    "\n",
    "non_fraud = len(fraud_df[fraud_df.is_fraud == 0])\n",
    "fraud = len(fraud_df[fraud_df.is_fraud == 1])\n",
    "fraud_percent = (fraud / (fraud + non_fraud)) * 100\n",
    "\n",
    "print(\"Number of Non-Fraud transactions: \", non_fraud)\n",
    "print(\"Number of Fraud transactions: \", fraud)\n",
    "print(\"Percentage of Fraud transactions: {:.4f}\".format(fraud_percent))"
   ]
  },
  {
   "cell_type": "code",
   "execution_count": 12,
   "id": "c5cc35d9-e82a-4380-a181-ee565cbedcd0",
   "metadata": {},
   "outputs": [
    {
     "data": {
      "image/png": "[encoded data removed]",
      "text/plain": [
       "<Figure size 640x480 with 1 Axes>"
      ]
     },
     "metadata": {},
     "output_type": "display_data"
    }
   ],
   "source": [
    "# Visualize the \"Labels\" column in our dataset\n",
    "\n",
    "labels = [\"Non-Fraud\", \"Fraud\"]\n",
    "count_classes = fraud_df.value_counts(fraud_df['is_fraud'], sort= True)\n",
    "count_classes.plot(kind = \"bar\", rot = 0)\n",
    "plt.title(\"Visualization of Labels\")\n",
    "plt.ylabel(\"Count\")\n",
    "plt.xticks(range(2), labels)\n",
    "plt.show()"
   ]
  },
  {
   "cell_type": "code",
   "execution_count": null,
   "id": "8b30e5e3-08a5-4e0d-a002-311ac73b962d",
   "metadata": {},
   "outputs": [],
   "source": []
  },
  {
   "cell_type": "code",
   "execution_count": 13,
   "id": "445bb302-584a-45d3-b012-73c1680a2b62",
   "metadata": {},
   "outputs": [
    {
     "data": {
      "text/html": [
       "<div>\n",
       "<style scoped>\n",
       "    .dataframe tbody tr th:only-of-type {\n",
       "        vertical-align: middle;\n",
       "    }\n",
       "\n",
       "    .dataframe tbody tr th {\n",
       "        vertical-align: top;\n",
       "    }\n",
       "\n",
       "    .dataframe thead th {\n",
       "        text-align: right;\n",
       "    }\n",
       "</style>\n",
       "<table border=\"1\" class=\"dataframe\">\n",
       "  <thead>\n",
       "    <tr style=\"text-align: right;\">\n",
       "      <th></th>\n",
       "      <th>count</th>\n",
       "      <th>mean</th>\n",
       "      <th>std</th>\n",
       "      <th>min</th>\n",
       "      <th>25%</th>\n",
       "      <th>50%</th>\n",
       "      <th>75%</th>\n",
       "      <th>max</th>\n",
       "    </tr>\n",
       "  </thead>\n",
       "  <tbody>\n",
       "    <tr>\n",
       "      <th>Unnamed: 0</th>\n",
       "      <td>1296675.00</td>\n",
       "      <td>648337.00</td>\n",
       "      <td>374317.97</td>\n",
       "      <td>0.00</td>\n",
       "      <td>324168.50</td>\n",
       "      <td>648337.00</td>\n",
       "      <td>972505.50</td>\n",
       "      <td>1296674.00</td>\n",
       "    </tr>\n",
       "    <tr>\n",
       "      <th>cc_num</th>\n",
       "      <td>1296675.00</td>\n",
       "      <td>417192042079641088.00</td>\n",
       "      <td>1308806447000789248.00</td>\n",
       "      <td>60416207185.00</td>\n",
       "      <td>180042946491150.00</td>\n",
       "      <td>3521417320836166.00</td>\n",
       "      <td>4642255475285942.00</td>\n",
       "      <td>4992346398065154048.00</td>\n",
       "    </tr>\n",
       "    <tr>\n",
       "      <th>amt</th>\n",
       "      <td>1296675.00</td>\n",
       "      <td>70.35</td>\n",
       "      <td>160.32</td>\n",
       "      <td>1.00</td>\n",
       "      <td>9.65</td>\n",
       "      <td>47.52</td>\n",
       "      <td>83.14</td>\n",
       "      <td>28948.90</td>\n",
       "    </tr>\n",
       "    <tr>\n",
       "      <th>zip</th>\n",
       "      <td>1296675.00</td>\n",
       "      <td>48800.67</td>\n",
       "      <td>26893.22</td>\n",
       "      <td>1257.00</td>\n",
       "      <td>26237.00</td>\n",
       "      <td>48174.00</td>\n",
       "      <td>72042.00</td>\n",
       "      <td>99783.00</td>\n",
       "    </tr>\n",
       "    <tr>\n",
       "      <th>lat</th>\n",
       "      <td>1296675.00</td>\n",
       "      <td>38.54</td>\n",
       "      <td>5.08</td>\n",
       "      <td>20.03</td>\n",
       "      <td>34.62</td>\n",
       "      <td>39.35</td>\n",
       "      <td>41.94</td>\n",
       "      <td>66.69</td>\n",
       "    </tr>\n",
       "    <tr>\n",
       "      <th>long</th>\n",
       "      <td>1296675.00</td>\n",
       "      <td>-90.23</td>\n",
       "      <td>13.76</td>\n",
       "      <td>-165.67</td>\n",
       "      <td>-96.80</td>\n",
       "      <td>-87.48</td>\n",
       "      <td>-80.16</td>\n",
       "      <td>-67.95</td>\n",
       "    </tr>\n",
       "    <tr>\n",
       "      <th>city_pop</th>\n",
       "      <td>1296675.00</td>\n",
       "      <td>88824.44</td>\n",
       "      <td>301956.36</td>\n",
       "      <td>23.00</td>\n",
       "      <td>743.00</td>\n",
       "      <td>2456.00</td>\n",
       "      <td>20328.00</td>\n",
       "      <td>2906700.00</td>\n",
       "    </tr>\n",
       "    <tr>\n",
       "      <th>unix_time</th>\n",
       "      <td>1296675.00</td>\n",
       "      <td>1349243636.73</td>\n",
       "      <td>12841278.42</td>\n",
       "      <td>1325376018.00</td>\n",
       "      <td>1338750742.50</td>\n",
       "      <td>1349249747.00</td>\n",
       "      <td>1359385375.50</td>\n",
       "      <td>1371816817.00</td>\n",
       "    </tr>\n",
       "    <tr>\n",
       "      <th>merch_lat</th>\n",
       "      <td>1296675.00</td>\n",
       "      <td>38.54</td>\n",
       "      <td>5.11</td>\n",
       "      <td>19.03</td>\n",
       "      <td>34.73</td>\n",
       "      <td>39.37</td>\n",
       "      <td>41.96</td>\n",
       "      <td>67.51</td>\n",
       "    </tr>\n",
       "    <tr>\n",
       "      <th>merch_long</th>\n",
       "      <td>1296675.00</td>\n",
       "      <td>-90.23</td>\n",
       "      <td>13.77</td>\n",
       "      <td>-166.67</td>\n",
       "      <td>-96.90</td>\n",
       "      <td>-87.44</td>\n",
       "      <td>-80.24</td>\n",
       "      <td>-66.95</td>\n",
       "    </tr>\n",
       "    <tr>\n",
       "      <th>is_fraud</th>\n",
       "      <td>1296675.00</td>\n",
       "      <td>0.01</td>\n",
       "      <td>0.08</td>\n",
       "      <td>0.00</td>\n",
       "      <td>0.00</td>\n",
       "      <td>0.00</td>\n",
       "      <td>0.00</td>\n",
       "      <td>1.00</td>\n",
       "    </tr>\n",
       "  </tbody>\n",
       "</table>\n",
       "</div>"
      ],
      "text/plain": [
       "                 count                   mean                     std  \\\n",
       "Unnamed: 0  1296675.00              648337.00               374317.97   \n",
       "cc_num      1296675.00  417192042079641088.00  1308806447000789248.00   \n",
       "amt         1296675.00                  70.35                  160.32   \n",
       "zip         1296675.00               48800.67                26893.22   \n",
       "lat         1296675.00                  38.54                    5.08   \n",
       "long        1296675.00                 -90.23                   13.76   \n",
       "city_pop    1296675.00               88824.44               301956.36   \n",
       "unix_time   1296675.00          1349243636.73             12841278.42   \n",
       "merch_lat   1296675.00                  38.54                    5.11   \n",
       "merch_long  1296675.00                 -90.23                   13.77   \n",
       "is_fraud    1296675.00                   0.01                    0.08   \n",
       "\n",
       "                       min                 25%                  50%  \\\n",
       "Unnamed: 0            0.00           324168.50            648337.00   \n",
       "cc_num      60416207185.00  180042946491150.00  3521417320836166.00   \n",
       "amt                   1.00                9.65                47.52   \n",
       "zip                1257.00            26237.00             48174.00   \n",
       "lat                  20.03               34.62                39.35   \n",
       "long               -165.67              -96.80               -87.48   \n",
       "city_pop             23.00              743.00              2456.00   \n",
       "unix_time    1325376018.00       1338750742.50        1349249747.00   \n",
       "merch_lat            19.03               34.73                39.37   \n",
       "merch_long         -166.67              -96.90               -87.44   \n",
       "is_fraud              0.00                0.00                 0.00   \n",
       "\n",
       "                            75%                     max  \n",
       "Unnamed: 0            972505.50              1296674.00  \n",
       "cc_num      4642255475285942.00  4992346398065154048.00  \n",
       "amt                       83.14                28948.90  \n",
       "zip                    72042.00                99783.00  \n",
       "lat                       41.94                   66.69  \n",
       "long                     -80.16                  -67.95  \n",
       "city_pop               20328.00              2906700.00  \n",
       "unix_time         1359385375.50           1371816817.00  \n",
       "merch_lat                 41.96                   67.51  \n",
       "merch_long               -80.24                  -66.95  \n",
       "is_fraud                   0.00                    1.00  "
      ]
     },
     "execution_count": 13,
     "metadata": {},
     "output_type": "execute_result"
    }
   ],
   "source": [
    "# Generate summary statistics\n",
    "\n",
    "fraud_df.describe().apply(lambda x: x.apply('{0:.2f}'.format)).T"
   ]
  },
  {
   "cell_type": "code",
   "execution_count": 14,
   "id": "b1e54aaf-3f67-4690-9074-b79a3cc85f0d",
   "metadata": {},
   "outputs": [
    {
     "data": {
      "text/plain": [
       "Unnamed: 0               1296675\n",
       "trans_date_trans_time    1274791\n",
       "cc_num                       983\n",
       "merchant                     693\n",
       "category                      14\n",
       "amt                        52928\n",
       "first                        352\n",
       "last                         481\n",
       "gender                         2\n",
       "street                       983\n",
       "city                         894\n",
       "state                         51\n",
       "zip                          970\n",
       "lat                          968\n",
       "long                         969\n",
       "city_pop                     879\n",
       "job                          494\n",
       "dob                          968\n",
       "trans_num                1296675\n",
       "unix_time                1274823\n",
       "merch_lat                1247805\n",
       "merch_long               1275745\n",
       "is_fraud                       2\n",
       "dtype: int64"
      ]
     },
     "execution_count": 14,
     "metadata": {},
     "output_type": "execute_result"
    }
   ],
   "source": [
    "# Checking the unique values for all the columns\n",
    "\n",
    "fraud_df.nunique()"
   ]
  },
  {
   "cell_type": "code",
   "execution_count": 15,
   "id": "ac8f4f6e-0dda-40bf-bedc-cffa12370be4",
   "metadata": {},
   "outputs": [],
   "source": [
    "# Function to return categorical columns to unique values and append to categorical_col\n",
    "\n",
    "def unique_values(data):\n",
    "  \n",
    "\n",
    "    categorical_col = []\n",
    "    for i,x in fraud_df.dtypes.items():\n",
    "        if x == 'object':\n",
    "            categorical_col.append(i)\n",
    "    return(categorical_col)\n",
    "    \n",
    "        "
   ]
  },
  {
   "cell_type": "code",
   "execution_count": 16,
   "id": "7258c395-621b-4e7b-aed8-11e7dc6f5d86",
   "metadata": {},
   "outputs": [],
   "source": [
    "# Check for unique values for all the categorical columns\n",
    "\n",
    "cat_cols = unique_values(fraud_df)"
   ]
  },
  {
   "cell_type": "code",
   "execution_count": 17,
   "id": "62eb4deb-0298-4355-a008-e7d4ef55ff9c",
   "metadata": {},
   "outputs": [
    {
     "data": {
      "text/plain": [
       "['merchant',\n",
       " 'category',\n",
       " 'first',\n",
       " 'last',\n",
       " 'gender',\n",
       " 'street',\n",
       " 'city',\n",
       " 'state',\n",
       " 'job',\n",
       " 'trans_num']"
      ]
     },
     "execution_count": 17,
     "metadata": {},
     "output_type": "execute_result"
    }
   ],
   "source": [
    "# List all the categorical columns\n",
    "\n",
    "cat_cols"
   ]
  },
  {
   "cell_type": "code",
   "execution_count": 18,
   "id": "afc13163-1f26-43da-9648-2a671fe8bd6d",
   "metadata": {},
   "outputs": [],
   "source": [
    "# For loop to get categorical columns and value counts\n",
    "\n",
    "df_dict = {}\n",
    "for i in cat_cols:\n",
    "    df_dict[i] = len(fraud_df[i].value_counts())"
   ]
  },
  {
   "cell_type": "code",
   "execution_count": 19,
   "id": "f77c45d0-ff5e-417f-998e-251d5c7a7acd",
   "metadata": {},
   "outputs": [
    {
     "data": {
      "text/plain": [
       "{'merchant': 693,\n",
       " 'category': 14,\n",
       " 'first': 352,\n",
       " 'last': 481,\n",
       " 'gender': 2,\n",
       " 'street': 983,\n",
       " 'city': 894,\n",
       " 'state': 51,\n",
       " 'job': 494,\n",
       " 'trans_num': 1296675}"
      ]
     },
     "execution_count": 19,
     "metadata": {},
     "output_type": "execute_result"
    }
   ],
   "source": [
    "# Check the total number of unique values in the categorical columns\n",
    "\n",
    "df_dict"
   ]
  },
  {
   "cell_type": "code",
   "execution_count": 20,
   "id": "05aabbc6-5795-4d22-bd0d-ea36ae64ce90",
   "metadata": {},
   "outputs": [
    {
     "name": "stdout",
     "output_type": "stream",
     "text": [
      "Categorical columns : ['merchant', 'category', 'first', 'last', 'gender', 'street', 'city', 'state', 'job', 'trans_num']\n",
      "Numerical columns : ['Unnamed: 0', 'trans_date_trans_time', 'cc_num', 'amt', 'zip', 'lat', 'long', 'city_pop', 'dob', 'unix_time', 'merch_lat', 'merch_long', 'is_fraud']\n"
     ]
    }
   ],
   "source": [
    "# Using boolean mask as an alternate way to seperate out the categorical and numerical columns\n",
    "\n",
    "# Categorical columns\n",
    "cat_col = [col for col in fraud_df.columns if fraud_df[col].dtype == 'object']\n",
    "print('Categorical columns :',cat_col)\n",
    "# Numerical columns\n",
    "num_col = [col for col in fraud_df.columns if fraud_df[col].dtype != 'object']\n",
    "print('Numerical columns :',num_col)\n"
   ]
  },
  {
   "cell_type": "markdown",
   "id": "e4514a46-7864-48eb-bc69-8116b5053ba3",
   "metadata": {},
   "source": [
    "#### Presenting the Heat Map and Box Plot"
   ]
  },
  {
   "cell_type": "code",
   "execution_count": 21,
   "id": "1cc118a4-423d-49bc-9410-d742ad2be141",
   "metadata": {
    "tags": []
   },
   "outputs": [
    {
     "data": {
      "image/png": "[encoded data removed]",
      "text/plain": [
       "<Figure size 832x624 with 2 Axes>"
      ]
     },
     "metadata": {},
     "output_type": "display_data"
    }
   ],
   "source": [
    "# Correlation of numberical columns\n",
    "\n",
    "corr = fraud_df.corr()\n",
    "\n",
    "plt.figure(dpi=130)\n",
    "sns.heatmap(fraud_df.corr(), annot=True, fmt= '.2f')\n",
    "plt.show()\n"
   ]
  },
  {
   "cell_type": "code",
   "execution_count": 22,
   "id": "4435d93e-9b98-4f0a-a882-cd0f2ec31cf7",
   "metadata": {},
   "outputs": [
    {
     "data": {
      "text/plain": [
       "is_fraud      1.00\n",
       "amt           0.22\n",
       "city_pop      0.00\n",
       "lat           0.00\n",
       "merch_lat     0.00\n",
       "merch_long    0.00\n",
       "long          0.00\n",
       "cc_num       -0.00\n",
       "zip          -0.00\n",
       "Unnamed: 0   -0.00\n",
       "unix_time    -0.01\n",
       "Name: is_fraud, dtype: float64"
      ]
     },
     "execution_count": 22,
     "metadata": {},
     "output_type": "execute_result"
    }
   ],
   "source": [
    "# Sorting all the correlated values\n",
    "\n",
    "corr['is_fraud'].sort_values(ascending = False)\n"
   ]
  },
  {
   "cell_type": "code",
   "execution_count": 23,
   "id": "04928857-4023-48f8-9073-11af1bc91d35",
   "metadata": {},
   "outputs": [
    {
     "data": {
      "text/plain": [
       "<AxesSubplot:>"
      ]
     },
     "execution_count": 23,
     "metadata": {},
     "output_type": "execute_result"
    },
    {
     "data": {
      "image/png": "[encoded data removed]",
      "text/plain": [
       "<Figure size 640x480 with 1 Axes>"
      ]
     },
     "metadata": {},
     "output_type": "display_data"
    }
   ],
   "source": [
    "\n",
    "\n",
    "fraud_df.boxplot(rot =45)"
   ]
  },
  {
   "cell_type": "code",
   "execution_count": 24,
   "id": "840c51cc-f7d9-4a54-80bc-a8476397951d",
   "metadata": {},
   "outputs": [
    {
     "data": {
      "text/plain": [
       "23"
      ]
     },
     "execution_count": 24,
     "metadata": {},
     "output_type": "execute_result"
    }
   ],
   "source": [
    "# Total amount of columns\n",
    "\n",
    "len(fraud_df.columns)"
   ]
  },
  {
   "cell_type": "code",
   "execution_count": 25,
   "id": "38b47c9e-c558-4e72-b11d-e46d8827c6b4",
   "metadata": {},
   "outputs": [],
   "source": [
    "# Container for columns for box plots\n",
    "\n",
    "cols = ['cc_num','amt','city_pop']"
   ]
  },
  {
   "cell_type": "code",
   "execution_count": 26,
   "id": "ee9dbfe4-cd57-42e8-931c-564a3580f018",
   "metadata": {},
   "outputs": [
    {
     "name": "stdout",
     "output_type": "stream",
     "text": [
      "(0, 'cc_num')\n",
      "(1, 'amt')\n",
      "(2, 'city_pop')\n"
     ]
    }
   ],
   "source": [
    "# Enumerate all the columns for th box plots\n",
    "\n",
    "for i in enumerate(cols):\n",
    "    print(i)"
   ]
  },
  {
   "cell_type": "code",
   "execution_count": 27,
   "id": "4125d4c8-68dc-41c1-a5d2-a5c324249686",
   "metadata": {},
   "outputs": [
    {
     "data": {
      "image/png": "[encoded data removed]",
      "text/plain": [
       "<Figure size 640x480 with 3 Axes>"
      ]
     },
     "metadata": {},
     "output_type": "display_data"
    }
   ],
   "source": [
    "# Each box plot for the enumerated columns \n",
    "\n",
    "fig,axs = plt.subplots(nrows=1, ncols=3)\n",
    "axs.flatten()\n",
    "for i,x in enumerate(cols):\n",
    "    axs[i].boxplot(fraud_df[x],showfliers =False)\n",
    "    plt.xlabel(x)\n",
    "plt.show()"
   ]
  },
  {
   "cell_type": "code",
   "execution_count": 28,
   "id": "4ed38d74-5de6-40f6-b94a-c4717165f6ae",
   "metadata": {},
   "outputs": [
    {
     "data": {
      "text/plain": [
       "<AxesSubplot:>"
      ]
     },
     "execution_count": 28,
     "metadata": {},
     "output_type": "execute_result"
    },
    {
     "data": {
      "image/png": "[encoded data removed]",
      "text/plain": [
       "<Figure size 2000x1000 with 1 Axes>"
      ]
     },
     "metadata": {},
     "output_type": "display_data"
    }
   ],
   "source": [
    "# Using box plot to visualize the outliers\n",
    "\n",
    "fraud_df.boxplot(figsize=(20,10),showfliers = False)"
   ]
  },
  {
   "cell_type": "code",
   "execution_count": null,
   "id": "213aa9fc-ffa4-4dc9-b5ed-2b29180615e8",
   "metadata": {},
   "outputs": [],
   "source": []
  },
  {
   "cell_type": "markdown",
   "id": "7dcd0c58-86f9-446e-b189-8e8c006eab90",
   "metadata": {},
   "source": [
    "# Data Preprocessing"
   ]
  },
  {
   "cell_type": "markdown",
   "id": "fb2c1596-5453-4766-a5e1-208fab202908",
   "metadata": {},
   "source": [
    "### Import the necessary libraries"
   ]
  },
  {
   "cell_type": "code",
   "execution_count": 29,
   "id": "fa622cf6-802f-475e-9064-50a3d1545561",
   "metadata": {},
   "outputs": [],
   "source": [
    "# Import the required modules\n",
    "import pandas as pd\n",
    "import numpy as np\n",
    "from pathlib import Path\n",
    "from sklearn.model_selection import train_test_split\n",
    "import matplotlib.pyplot as plt\n",
    "from imblearn.metrics import classification_report_imbalanced\n",
    "from sklearn.metrics import accuracy_score, classification_report\n",
    "from sklearn.linear_model import LogisticRegression\n",
    "from sklearn.preprocessing import StandardScaler\n",
    "from sklearn.metrics import confusion_matrix\n",
    "# import warnings\n",
    "# warnings.filterwarnings(\"ignore\")  # Ignore all warnings"
   ]
  },
  {
   "cell_type": "markdown",
   "id": "1dfca94e-f65f-4ed2-9d6f-e921cfcdacc7",
   "metadata": {},
   "source": [
    "# Prepare the Data"
   ]
  },
  {
   "cell_type": "markdown",
   "id": "a7d38a29-1a7c-4d9c-b23d-046572f87631",
   "metadata": {},
   "source": [
    "### Step 1: Load the `fraudTrainlarge.csv` file from the Resources folder into a Pandas DataFrame. Set the `id` column as the index."
   ]
  },
  {
   "cell_type": "code",
   "execution_count": 30,
   "id": "14d0d8c1-36b7-4f1a-b930-d881395e9cc9",
   "metadata": {},
   "outputs": [
    {
     "name": "stderr",
     "output_type": "stream",
     "text": [
      "/Users/alexvalenzuela/opt/anaconda3/envs/dev/lib/python3.7/site-packages/ipykernel_launcher.py:21: FutureWarning: casting datetime64[ns] values to int64 with .astype(...) is deprecated and will raise in a future version. Use .view(...) instead.\n"
     ]
    },
    {
     "data": {
      "text/html": [
       "<div>\n",
       "<style scoped>\n",
       "    .dataframe tbody tr th:only-of-type {\n",
       "        vertical-align: middle;\n",
       "    }\n",
       "\n",
       "    .dataframe tbody tr th {\n",
       "        vertical-align: top;\n",
       "    }\n",
       "\n",
       "    .dataframe thead th {\n",
       "        text-align: right;\n",
       "    }\n",
       "</style>\n",
       "<table border=\"1\" class=\"dataframe\">\n",
       "  <thead>\n",
       "    <tr style=\"text-align: right;\">\n",
       "      <th></th>\n",
       "      <th>trans_date_trans_time</th>\n",
       "      <th>cc_num</th>\n",
       "      <th>amt</th>\n",
       "      <th>zip</th>\n",
       "      <th>lat</th>\n",
       "      <th>long</th>\n",
       "      <th>city_pop</th>\n",
       "      <th>unix_time</th>\n",
       "      <th>merch_lat</th>\n",
       "      <th>merch_long</th>\n",
       "      <th>is_fraud</th>\n",
       "    </tr>\n",
       "    <tr>\n",
       "      <th>id</th>\n",
       "      <th></th>\n",
       "      <th></th>\n",
       "      <th></th>\n",
       "      <th></th>\n",
       "      <th></th>\n",
       "      <th></th>\n",
       "      <th></th>\n",
       "      <th></th>\n",
       "      <th></th>\n",
       "      <th></th>\n",
       "      <th></th>\n",
       "    </tr>\n",
       "  </thead>\n",
       "  <tbody>\n",
       "    <tr>\n",
       "      <th>0</th>\n",
       "      <td>1546300818.00</td>\n",
       "      <td>2703186189652095</td>\n",
       "      <td>4.97</td>\n",
       "      <td>28654</td>\n",
       "      <td>36.08</td>\n",
       "      <td>-81.18</td>\n",
       "      <td>3495</td>\n",
       "      <td>1325376018</td>\n",
       "      <td>36.01</td>\n",
       "      <td>-82.05</td>\n",
       "      <td>0</td>\n",
       "    </tr>\n",
       "    <tr>\n",
       "      <th>1</th>\n",
       "      <td>1546300844.00</td>\n",
       "      <td>630423337322</td>\n",
       "      <td>107.23</td>\n",
       "      <td>99160</td>\n",
       "      <td>48.89</td>\n",
       "      <td>-118.21</td>\n",
       "      <td>149</td>\n",
       "      <td>1325376044</td>\n",
       "      <td>49.16</td>\n",
       "      <td>-118.19</td>\n",
       "      <td>0</td>\n",
       "    </tr>\n",
       "    <tr>\n",
       "      <th>2</th>\n",
       "      <td>1546300851.00</td>\n",
       "      <td>38859492057661</td>\n",
       "      <td>220.11</td>\n",
       "      <td>83252</td>\n",
       "      <td>42.18</td>\n",
       "      <td>-112.26</td>\n",
       "      <td>4154</td>\n",
       "      <td>1325376051</td>\n",
       "      <td>43.15</td>\n",
       "      <td>-112.15</td>\n",
       "      <td>0</td>\n",
       "    </tr>\n",
       "    <tr>\n",
       "      <th>3</th>\n",
       "      <td>1546300876.00</td>\n",
       "      <td>3534093764340240</td>\n",
       "      <td>45.00</td>\n",
       "      <td>59632</td>\n",
       "      <td>46.23</td>\n",
       "      <td>-112.11</td>\n",
       "      <td>1939</td>\n",
       "      <td>1325376076</td>\n",
       "      <td>47.03</td>\n",
       "      <td>-112.56</td>\n",
       "      <td>0</td>\n",
       "    </tr>\n",
       "    <tr>\n",
       "      <th>4</th>\n",
       "      <td>1546300986.00</td>\n",
       "      <td>375534208663984</td>\n",
       "      <td>41.96</td>\n",
       "      <td>24433</td>\n",
       "      <td>38.42</td>\n",
       "      <td>-79.46</td>\n",
       "      <td>99</td>\n",
       "      <td>1325376186</td>\n",
       "      <td>38.67</td>\n",
       "      <td>-78.63</td>\n",
       "      <td>0</td>\n",
       "    </tr>\n",
       "  </tbody>\n",
       "</table>\n",
       "</div>"
      ],
      "text/plain": [
       "    trans_date_trans_time            cc_num    amt    zip   lat    long  \\\n",
       "id                                                                        \n",
       "0           1546300818.00  2703186189652095   4.97  28654 36.08  -81.18   \n",
       "1           1546300844.00      630423337322 107.23  99160 48.89 -118.21   \n",
       "2           1546300851.00    38859492057661 220.11  83252 42.18 -112.26   \n",
       "3           1546300876.00  3534093764340240  45.00  59632 46.23 -112.11   \n",
       "4           1546300986.00   375534208663984  41.96  24433 38.42  -79.46   \n",
       "\n",
       "    city_pop   unix_time  merch_lat  merch_long  is_fraud  \n",
       "id                                                         \n",
       "0       3495  1325376018      36.01      -82.05         0  \n",
       "1        149  1325376044      49.16     -118.19         0  \n",
       "2       4154  1325376051      43.15     -112.15         0  \n",
       "3       1939  1325376076      47.03     -112.56         0  \n",
       "4         99  1325376186      38.67      -78.63         0  "
      ]
     },
     "execution_count": 30,
     "metadata": {},
     "output_type": "execute_result"
    }
   ],
   "source": [
    "# Define a function to convert values to float or Nan \n",
    "def convert_to_float(value):\n",
    "    try:\n",
    "        return float(value)\n",
    "    except ValueError:\n",
    "        return np.nan\n",
    "    \n",
    "# Convert 'trans_date_trans_time' to datetime data type\n",
    "fraud_df['trans_date_trans_time'] = pd.to_datetime(fraud_df['trans_date_trans_time'])\n",
    "\n",
    "# Convert 'amt' column to numeric, handling non-numeric values as NaN\n",
    "fraud_df['amt'] = pd.to_numeric(fraud_df['amt'], errors='coerce')\n",
    "\n",
    "# Drop rows with NaN values in 'amt' column\n",
    "fraud_df = fraud_df.dropna(subset=['amt']) \n",
    "\n",
    "# Reset the index\n",
    "fraud_df.reset_index(drop=True, inplace=True)\n",
    "\n",
    "# Extract UNIX timestamp as a float\n",
    "fraud_df['trans_date_trans_time'] = fraud_df['trans_date_trans_time'].astype(int) / 10**9\n",
    "\n",
    "# Rename the 'Unnamed: 0' column to 'id'\n",
    "fraud_df.rename(columns={'Unnamed: 0': 'id'}, inplace=True)\n",
    "\n",
    "fraud_df = fraud_df.drop(columns=['merchant','category', 'first', 'last', 'gender', 'job', 'city', 'state', 'street', 'dob', 'trans_num'])\n",
    "\n",
    "# Set the 'id' column as the index\n",
    "fraud_df.set_index('id', inplace=True)\n",
    "\n",
    "\n",
    "# Review the DataFrame\n",
    "fraud_df.head()"
   ]
  },
  {
   "cell_type": "markdown",
   "id": "85c3eee2-1d27-4965-85d7-688099c2089e",
   "metadata": {},
   "source": [
    "### Show all the columns of `fraud_df`"
   ]
  },
  {
   "cell_type": "code",
   "execution_count": 31,
   "id": "eeb7b811-c64e-4845-b65b-b1ece52b9eaf",
   "metadata": {},
   "outputs": [
    {
     "data": {
      "text/plain": [
       "Index(['trans_date_trans_time', 'cc_num', 'amt', 'zip', 'lat', 'long',\n",
       "       'city_pop', 'unix_time', 'merch_lat', 'merch_long', 'is_fraud'],\n",
       "      dtype='object')"
      ]
     },
     "execution_count": 31,
     "metadata": {},
     "output_type": "execute_result"
    }
   ],
   "source": [
    "fraud_df.columns"
   ]
  },
  {
   "cell_type": "markdown",
   "id": "de6f832c-31e7-4b45-8bde-501495e021b7",
   "metadata": {
    "tags": []
   },
   "source": [
    "### Step 2: Using `value_counts` to get the total fraudulent transactions in this dataset\n"
   ]
  },
  {
   "cell_type": "code",
   "execution_count": 32,
   "id": "8a2237ba-c4a6-49cf-a353-04172bef80d9",
   "metadata": {},
   "outputs": [
    {
     "data": {
      "text/plain": [
       "0    1289169\n",
       "1       7506\n",
       "Name: is_fraud, dtype: int64"
      ]
     },
     "execution_count": 32,
     "metadata": {},
     "output_type": "execute_result"
    }
   ],
   "source": [
    "# The  column 'fraud' is the thing you want to predict. \n",
    "# Class 0 indicates no-fraud trasactions and class 1 indicates fraudulent transactions\n",
    "\n",
    "fraud_df[\"is_fraud\"].value_counts()"
   ]
  },
  {
   "cell_type": "markdown",
   "id": "5e111cdc-39a6-4722-9da3-e624fb0d1f14",
   "metadata": {},
   "source": [
    "# Split the data into training and testing sets"
   ]
  },
  {
   "cell_type": "markdown",
   "id": "052a8a70-79c4-483f-a44c-f96ee60e8890",
   "metadata": {},
   "source": [
    "### Step 1: Using the transaction_fraud_data DataFrame, separate the data into training and testing data. Start by defining the target (the “fraud” column) and the features of the data (all the columns except “fraud”)."
   ]
  },
  {
   "cell_type": "code",
   "execution_count": 33,
   "id": "9299b47b-76bb-4ca9-845b-c68da15d61fa",
   "metadata": {},
   "outputs": [],
   "source": [
    "# The target column should be the binary `fraud` column.\n",
    "target = fraud_df[\"is_fraud\"]\n",
    "\n",
    "\n",
    "# The features column should be all of the features. \n",
    "features = fraud_df.drop(columns=\"is_fraud\")"
   ]
  },
  {
   "cell_type": "markdown",
   "id": "88756786-92a2-4cfc-bfac-730addd3908c",
   "metadata": {},
   "source": [
    "### Step 2: Split the features and target data into `training_features`, `testing_features`, `training_targets`, and `testing_targets` datasets by using the train_test_split function."
   ]
  },
  {
   "cell_type": "code",
   "execution_count": 34,
   "id": "b738c21b-002a-4d2e-8c28-9b95063ce03f",
   "metadata": {},
   "outputs": [
    {
     "name": "stdout",
     "output_type": "stream",
     "text": [
      "Shape of training_features:  (907672, 10)\n",
      "Shape of testing_features:  (389003, 10)\n"
     ]
    }
   ],
   "source": [
    "# Split the dataset using the train_test_split function\n",
    "training_features, testing_features, training_targets, testing_targets = train_test_split(features, target, test_size= 0.3, random_state= 42)\n",
    "\n",
    "print(\"Shape of training_features: \", training_features.shape)\n",
    "print(\"Shape of testing_features: \", testing_features.shape)"
   ]
  },
  {
   "cell_type": "markdown",
   "id": "97118917-ec63-4396-8022-e031b58b3677",
   "metadata": {},
   "source": [
    "### Step 3: Scale the features data using the StandardScaler from sklearn"
   ]
  },
  {
   "cell_type": "code",
   "execution_count": 35,
   "id": "fa5c8143-a702-4261-b196-ee9bb07001b5",
   "metadata": {},
   "outputs": [],
   "source": [
    "# Create the StandardScaler instance\n",
    "scaler = StandardScaler()"
   ]
  },
  {
   "cell_type": "code",
   "execution_count": 36,
   "id": "4ecff83c-6ad1-48a0-90a4-7e665473e550",
   "metadata": {},
   "outputs": [
    {
     "data": {
      "text/plain": [
       "StandardScaler()"
      ]
     },
     "execution_count": 36,
     "metadata": {},
     "output_type": "execute_result"
    }
   ],
   "source": [
    "# Scale both the training and testing data from the features dataset\n",
    "\n",
    "scaler.fit(training_features)"
   ]
  },
  {
   "cell_type": "markdown",
   "id": "21f48482-9943-439f-a156-68f2ec07a65a",
   "metadata": {},
   "source": [
    "### Transform your test data using the same scaler"
   ]
  },
  {
   "cell_type": "code",
   "execution_count": 37,
   "id": "0797af9b-7983-4329-801e-9083c2eba506",
   "metadata": {},
   "outputs": [],
   "source": [
    "# Scale both the training and testing data from the features dataset\n",
    "\n",
    "train_scaled = scaler.transform(training_features)\n",
    "test_scaled = scaler.transform(testing_features)"
   ]
  },
  {
   "cell_type": "markdown",
   "id": "486e0faf-c29e-4628-b164-2c062bb1b80e",
   "metadata": {},
   "source": [
    "# Model and Fit the Data to a Logistic Regression"
   ]
  },
  {
   "cell_type": "markdown",
   "id": "f469e76d-5897-4c92-83c9-373231fc8795",
   "metadata": {},
   "source": [
    "### Step 1: Declare a LogisticRegression model."
   ]
  },
  {
   "cell_type": "code",
   "execution_count": 38,
   "id": "7450c406-7673-4cbd-b964-f2c083a84171",
   "metadata": {},
   "outputs": [],
   "source": [
    "# Declare a logistic regression model.\n",
    "# Apply a random_state of 7 to the model\n",
    "logistic_regression_model = LogisticRegression(random_state=7)"
   ]
  },
  {
   "cell_type": "markdown",
   "id": "7612fb0c-ea90-4064-85a3-91bfe15c9d08",
   "metadata": {},
   "source": [
    "### Step 2: Fit the training data to the model, and save the model.\n"
   ]
  },
  {
   "cell_type": "code",
   "execution_count": 39,
   "id": "d30e5659-e1e7-4648-b6b4-3b72bc1b53c8",
   "metadata": {},
   "outputs": [
    {
     "name": "stderr",
     "output_type": "stream",
     "text": [
      "/Users/alexvalenzuela/opt/anaconda3/envs/dev/lib/python3.7/site-packages/sklearn/linear_model/_logistic.py:818: ConvergenceWarning: lbfgs failed to converge (status=2):\n",
      "ABNORMAL_TERMINATION_IN_LNSRCH.\n",
      "\n",
      "Increase the number of iterations (max_iter) or scale the data as shown in:\n",
      "    https://scikit-learn.org/stable/modules/preprocessing.html\n",
      "Please also refer to the documentation for alternative solver options:\n",
      "    https://scikit-learn.org/stable/modules/linear_model.html#logistic-regression\n",
      "  extra_warning_msg=_LOGISTIC_SOLVER_CONVERGENCE_MSG,\n"
     ]
    }
   ],
   "source": [
    "# Fit and save the logistic regression model using the training data\n",
    "lr_model = logistic_regression_model.fit(training_features, training_targets)"
   ]
  },
  {
   "cell_type": "markdown",
   "id": "8c3822e4-7f95-419a-92ef-560519047531",
   "metadata": {},
   "source": [
    "# Predict the Testing Labels"
   ]
  },
  {
   "cell_type": "code",
   "execution_count": 40,
   "id": "a259c363-ca59-409c-b40c-8169ad14e1d7",
   "metadata": {},
   "outputs": [
    {
     "data": {
      "text/html": [
       "<div>\n",
       "<style scoped>\n",
       "    .dataframe tbody tr th:only-of-type {\n",
       "        vertical-align: middle;\n",
       "    }\n",
       "\n",
       "    .dataframe tbody tr th {\n",
       "        vertical-align: top;\n",
       "    }\n",
       "\n",
       "    .dataframe thead th {\n",
       "        text-align: right;\n",
       "    }\n",
       "</style>\n",
       "<table border=\"1\" class=\"dataframe\">\n",
       "  <thead>\n",
       "    <tr style=\"text-align: right;\">\n",
       "      <th></th>\n",
       "      <th>Testing Data Predictions</th>\n",
       "      <th>Testing Data Actual Targets</th>\n",
       "    </tr>\n",
       "    <tr>\n",
       "      <th>id</th>\n",
       "      <th></th>\n",
       "      <th></th>\n",
       "    </tr>\n",
       "  </thead>\n",
       "  <tbody>\n",
       "    <tr>\n",
       "      <th>1045211</th>\n",
       "      <td>0</td>\n",
       "      <td>0</td>\n",
       "    </tr>\n",
       "    <tr>\n",
       "      <th>547406</th>\n",
       "      <td>0</td>\n",
       "      <td>0</td>\n",
       "    </tr>\n",
       "    <tr>\n",
       "      <th>110142</th>\n",
       "      <td>0</td>\n",
       "      <td>0</td>\n",
       "    </tr>\n",
       "    <tr>\n",
       "      <th>1285953</th>\n",
       "      <td>0</td>\n",
       "      <td>0</td>\n",
       "    </tr>\n",
       "    <tr>\n",
       "      <th>271705</th>\n",
       "      <td>0</td>\n",
       "      <td>0</td>\n",
       "    </tr>\n",
       "    <tr>\n",
       "      <th>...</th>\n",
       "      <td>...</td>\n",
       "      <td>...</td>\n",
       "    </tr>\n",
       "    <tr>\n",
       "      <th>421133</th>\n",
       "      <td>0</td>\n",
       "      <td>0</td>\n",
       "    </tr>\n",
       "    <tr>\n",
       "      <th>695406</th>\n",
       "      <td>0</td>\n",
       "      <td>0</td>\n",
       "    </tr>\n",
       "    <tr>\n",
       "      <th>1259079</th>\n",
       "      <td>0</td>\n",
       "      <td>0</td>\n",
       "    </tr>\n",
       "    <tr>\n",
       "      <th>137364</th>\n",
       "      <td>0</td>\n",
       "      <td>0</td>\n",
       "    </tr>\n",
       "    <tr>\n",
       "      <th>473850</th>\n",
       "      <td>0</td>\n",
       "      <td>0</td>\n",
       "    </tr>\n",
       "  </tbody>\n",
       "</table>\n",
       "<p>389003 rows × 2 columns</p>\n",
       "</div>"
      ],
      "text/plain": [
       "         Testing Data Predictions  Testing Data Actual Targets\n",
       "id                                                            \n",
       "1045211                         0                            0\n",
       "547406                          0                            0\n",
       "110142                          0                            0\n",
       "1285953                         0                            0\n",
       "271705                          0                            0\n",
       "...                           ...                          ...\n",
       "421133                          0                            0\n",
       "695406                          0                            0\n",
       "1259079                         0                            0\n",
       "137364                          0                            0\n",
       "473850                          0                            0\n",
       "\n",
       "[389003 rows x 2 columns]"
      ]
     },
     "execution_count": 40,
     "metadata": {},
     "output_type": "execute_result"
    }
   ],
   "source": [
    "# Make and save testing predictions with the saved logistic regression model using the test data\n",
    "testing_predictions = lr_model.predict(testing_features)\n",
    "\n",
    "# Review the predictions\n",
    "#testing_predictions\n",
    "# Save both the test predictions and actual test values to a DataFrame\n",
    "results_df = pd.DataFrame({\n",
    "    \"Testing Data Predictions\": testing_predictions,\n",
    "    \"Testing Data Actual Targets\": testing_targets})\n",
    "results_df"
   ]
  },
  {
   "cell_type": "markdown",
   "id": "e511a4a5-6aaf-44b1-afbd-801f94029522",
   "metadata": {},
   "source": [
    "### Length of predictions for `testing_features`"
   ]
  },
  {
   "cell_type": "code",
   "execution_count": 41,
   "id": "ecabfc39-dc35-49a9-9390-c2b2251dcdd0",
   "metadata": {},
   "outputs": [
    {
     "data": {
      "text/plain": [
       "389003"
      ]
     },
     "execution_count": 41,
     "metadata": {},
     "output_type": "execute_result"
    }
   ],
   "source": [
    "len(testing_predictions)"
   ]
  },
  {
   "cell_type": "markdown",
   "id": "371b7c93-b580-4d25-aae7-a85897853ad0",
   "metadata": {},
   "source": [
    "# Calculate the Performance Metrics"
   ]
  },
  {
   "cell_type": "markdown",
   "id": "e42468a9-c2d1-4456-a2d8-164ffc5d5152",
   "metadata": {},
   "source": [
    "### Step 1: Calculate the accuracy score by evaluating `testing_targets` vs. `testing_predictions`."
   ]
  },
  {
   "cell_type": "code",
   "execution_count": 42,
   "id": "e3c06269-dacb-4525-ab2e-bc5881f180c7",
   "metadata": {},
   "outputs": [
    {
     "data": {
      "text/plain": [
       "0.9941260093109822"
      ]
     },
     "execution_count": 42,
     "metadata": {},
     "output_type": "execute_result"
    }
   ],
   "source": [
    "# Display the accuracy score for the test dataset.\n",
    "accuracy_score(testing_targets, testing_predictions)"
   ]
  },
  {
   "cell_type": "markdown",
   "id": "be276357-d39f-493b-bb75-9018f470cf1c",
   "metadata": {},
   "source": [
    "### Step 2: Evaluate the Model with a Confusion Matrix"
   ]
  },
  {
   "cell_type": "code",
   "execution_count": 43,
   "id": "b6e62dac-1dcc-493c-b8f3-82cbdc123153",
   "metadata": {},
   "outputs": [],
   "source": [
    "#Generate training predictions\n",
    "training_predictions = lr_model.predict(training_features)"
   ]
  },
  {
   "cell_type": "code",
   "execution_count": 44,
   "id": "91640f4c-fc20-4bff-aee6-0ebc670836f6",
   "metadata": {},
   "outputs": [
    {
     "name": "stdout",
     "output_type": "stream",
     "text": [
      "[[902451      0]\n",
      " [  5221      0]]\n"
     ]
    }
   ],
   "source": [
    "#Print the confusion matrix\n",
    "training_matrix = confusion_matrix(training_targets, training_predictions)\n",
    "print(training_matrix)"
   ]
  },
  {
   "cell_type": "markdown",
   "id": "cd27c871-81ef-487c-9e3e-29f2d42bc190",
   "metadata": {},
   "source": [
    "### Step 3: Generate a Classification Report"
   ]
  },
  {
   "cell_type": "code",
   "execution_count": 45,
   "id": "39646872-a426-46ff-b9f9-84923de531b4",
   "metadata": {},
   "outputs": [
    {
     "name": "stderr",
     "output_type": "stream",
     "text": [
      "/Users/alexvalenzuela/opt/anaconda3/envs/dev/lib/python3.7/site-packages/sklearn/metrics/_classification.py:1318: UndefinedMetricWarning: Precision and F-score are ill-defined and being set to 0.0 in labels with no predicted samples. Use `zero_division` parameter to control this behavior.\n",
      "  _warn_prf(average, modifier, msg_start, len(result))\n"
     ]
    },
    {
     "name": "stdout",
     "output_type": "stream",
     "text": [
      "              precision    recall  f1-score   support\n",
      "\n",
      "           0       0.99      1.00      1.00    902451\n",
      "           1       0.00      0.00      0.00      5221\n",
      "\n",
      "    accuracy                           0.99    907672\n",
      "   macro avg       0.50      0.50      0.50    907672\n",
      "weighted avg       0.99      0.99      0.99    907672\n",
      "\n"
     ]
    },
    {
     "name": "stderr",
     "output_type": "stream",
     "text": [
      "/Users/alexvalenzuela/opt/anaconda3/envs/dev/lib/python3.7/site-packages/sklearn/metrics/_classification.py:1318: UndefinedMetricWarning: Precision and F-score are ill-defined and being set to 0.0 in labels with no predicted samples. Use `zero_division` parameter to control this behavior.\n",
      "  _warn_prf(average, modifier, msg_start, len(result))\n",
      "/Users/alexvalenzuela/opt/anaconda3/envs/dev/lib/python3.7/site-packages/sklearn/metrics/_classification.py:1318: UndefinedMetricWarning: Precision and F-score are ill-defined and being set to 0.0 in labels with no predicted samples. Use `zero_division` parameter to control this behavior.\n",
      "  _warn_prf(average, modifier, msg_start, len(result))\n"
     ]
    }
   ],
   "source": [
    "# Save a classification report\n",
    "training_report = classification_report(training_targets, training_predictions)\n",
    "# Then view its output\n",
    "# Save the confusion matrix for the test labels\n",
    "testing_matrix = confusion_matrix(testing_targets, testing_predictions)\n",
    "print(training_report)"
   ]
  },
  {
   "cell_type": "code",
   "execution_count": 46,
   "id": "09daa3d0-0672-4663-919d-d43388ce6cdc",
   "metadata": {},
   "outputs": [
    {
     "name": "stdout",
     "output_type": "stream",
     "text": [
      "[[386718      0]\n",
      " [  2285      0]]\n",
      "              precision    recall  f1-score   support\n",
      "\n",
      "           0       0.99      1.00      1.00    386718\n",
      "           1       0.00      0.00      0.00      2285\n",
      "\n",
      "    accuracy                           0.99    389003\n",
      "   macro avg       0.50      0.50      0.50    389003\n",
      "weighted avg       0.99      0.99      0.99    389003\n",
      "\n"
     ]
    },
    {
     "name": "stderr",
     "output_type": "stream",
     "text": [
      "/Users/alexvalenzuela/opt/anaconda3/envs/dev/lib/python3.7/site-packages/sklearn/metrics/_classification.py:1318: UndefinedMetricWarning: Precision and F-score are ill-defined and being set to 0.0 in labels with no predicted samples. Use `zero_division` parameter to control this behavior.\n",
      "  _warn_prf(average, modifier, msg_start, len(result))\n",
      "/Users/alexvalenzuela/opt/anaconda3/envs/dev/lib/python3.7/site-packages/sklearn/metrics/_classification.py:1318: UndefinedMetricWarning: Precision and F-score are ill-defined and being set to 0.0 in labels with no predicted samples. Use `zero_division` parameter to control this behavior.\n",
      "  _warn_prf(average, modifier, msg_start, len(result))\n",
      "/Users/alexvalenzuela/opt/anaconda3/envs/dev/lib/python3.7/site-packages/sklearn/metrics/_classification.py:1318: UndefinedMetricWarning: Precision and F-score are ill-defined and being set to 0.0 in labels with no predicted samples. Use `zero_division` parameter to control this behavior.\n",
      "  _warn_prf(average, modifier, msg_start, len(result))\n"
     ]
    }
   ],
   "source": [
    "# Save the confusion matrix for the test labels\n",
    "testing_matrix = confusion_matrix(testing_targets, testing_predictions)\n",
    "\n",
    "# Save the classification report for the test labels\n",
    "testing_report = classification_report(testing_targets, testing_predictions)\n",
    "# View the output\n",
    "print(testing_matrix)\n",
    "print(testing_report)"
   ]
  },
  {
   "cell_type": "code",
   "execution_count": null,
   "id": "6a5da1c2-3dab-4fab-9e41-75d3e178c185",
   "metadata": {},
   "outputs": [],
   "source": []
  }
 ],
 "metadata": {
  "kernelspec": {
   "display_name": "Python 3 (ipykernel)",
   "language": "python",
   "name": "python3"
  },
  "language_info": {
   "codemirror_mode": {
    "name": "ipython",
    "version": 3
   },
   "file_extension": ".py",
   "mimetype": "text/x-python",
   "name": "python",
   "nbconvert_exporter": "python",
   "pygments_lexer": "ipython3",
   "version": "3.7.13"
  }
 },
 "nbformat": 4,
 "nbformat_minor": 5
}
